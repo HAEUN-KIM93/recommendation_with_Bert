{
 "cells": [
  {
   "cell_type": "code",
   "execution_count": 1,
   "metadata": {},
   "outputs": [
    {
     "name": "stderr",
     "output_type": "stream",
     "text": [
      "c:\\Users\\haeun\\anaconda3\\envs\\pytorch_nlp\\lib\\site-packages\\tqdm\\auto.py:21: TqdmWarning: IProgress not found. Please update jupyter and ipywidgets. See https://ipywidgets.readthedocs.io/en/stable/user_install.html\n",
      "  from .autonotebook import tqdm as notebook_tqdm\n",
      "c:\\Users\\haeun\\anaconda3\\envs\\pytorch_nlp\\lib\\site-packages\\torchvision\\datapoints\\__init__.py:12: UserWarning: The torchvision.datapoints and torchvision.transforms.v2 namespaces are still Beta. While we do not expect major breaking changes, some APIs may still change according to user feedback. Please submit any feedback you may have in this issue: https://github.com/pytorch/vision/issues/6753, and you can also check out https://github.com/pytorch/vision/issues/7319 to learn more about the APIs that we suspect might involve future changes. You can silence this warning by calling torchvision.disable_beta_transforms_warning().\n",
      "  warnings.warn(_BETA_TRANSFORMS_WARNING)\n",
      "c:\\Users\\haeun\\anaconda3\\envs\\pytorch_nlp\\lib\\site-packages\\torchvision\\transforms\\v2\\__init__.py:54: UserWarning: The torchvision.datapoints and torchvision.transforms.v2 namespaces are still Beta. While we do not expect major breaking changes, some APIs may still change according to user feedback. Please submit any feedback you may have in this issue: https://github.com/pytorch/vision/issues/6753, and you can also check out https://github.com/pytorch/vision/issues/7319 to learn more about the APIs that we suspect might involve future changes. You can silence this warning by calling torchvision.disable_beta_transforms_warning().\n",
      "  warnings.warn(_BETA_TRANSFORMS_WARNING)\n"
     ]
    }
   ],
   "source": [
    "import numpy as np\n",
    "import pandas as pd\n",
    "from sklearn.preprocessing import MultiLabelBinarizer, MinMaxScaler\n",
    "from sklearn.metrics.pairwise import cosine_similarity\n",
    "from transformers import BertTokenizer, BertModel\n",
    "import torch\n",
    "from torch.utils.data import Dataset,DataLoader\n",
    "from tqdm import tqdm\n",
    "import pickle"
   ]
  },
  {
   "cell_type": "code",
   "execution_count": 82,
   "metadata": {},
   "outputs": [],
   "source": [
    "def preprocess(num,df):\n",
    "    \n",
    "    df_cleaned = df.dropna(subset=['overview'])\n",
    "    unique_title = df_cleaned['title'].drop_duplicates()  \n",
    "    sampled_title = unique_title.sample(num, replace=False, random_state=42)\n",
    "    df_sampled = df_cleaned[df_cleaned['title'].isin(sampled_title)].drop_duplicates(subset='title')\n",
    "    return df_sampled\n"
   ]
  },
  {
   "cell_type": "code",
   "execution_count": 83,
   "metadata": {},
   "outputs": [],
   "source": [
    "df=pd.read_csv(\"TMDB movie dataset.csv\")\n",
    "df=preprocess(30000,df)"
   ]
  },
  {
   "cell_type": "code",
   "execution_count": 85,
   "metadata": {},
   "outputs": [],
   "source": [
    "\n",
    "#set the device\n",
    "device='cuda' if torch.cuda.is_available() else 'cpu'\n",
    "tokenizer = BertTokenizer.from_pretrained('bert-base-uncased')\n",
    "bert_model = BertModel.from_pretrained('bert-base-uncased').to(device)"
   ]
  },
  {
   "cell_type": "code",
   "execution_count": 86,
   "metadata": {},
   "outputs": [],
   "source": [
    "class MovieDataset(Dataset):\n",
    "    def __init__(self, data, tokenizer, max_length=512):\n",
    "        self.data = data\n",
    "        self.tokenizer = tokenizer\n",
    "        self.bert_model = bert_model\n",
    "        self.max_length = max_length\n",
    "\n",
    "    def __len__(self):\n",
    "        return len(self.data)\n",
    "\n",
    "    def __getitem__(self, idx):\n",
    "        text = self.data[idx]\n",
    "        tokenized = self.tokenizer(text, return_tensors=\"pt\", padding=\"max_length\", truncation=True, max_length=self.max_length)\n",
    "        return tokenized['input_ids'].squeeze(0), tokenized['attention_mask'].squeeze(0)\n"
   ]
  },
  {
   "cell_type": "code",
   "execution_count": 87,
   "metadata": {},
   "outputs": [],
   "source": [
    "import numpy as np\n",
    "import pandas as pd\n",
    "from sklearn.preprocessing import MultiLabelBinarizer, MinMaxScaler\n",
    "from sklearn.metrics.pairwise import cosine_similarity\n",
    "from transformers import BertTokenizer, BertModel\n",
    "import torch\n",
    "from torch import nn\n",
    "from tqdm import tqdm\n",
    "\n",
    "class BERT_LSTM(nn.Module):\n",
    "    def __init__(self, input_size, hidden_size, output_size, num_layers=1):\n",
    "        super(BERT_LSTM, self).__init__()\n",
    "        self.lstm = nn.LSTM(input_size, hidden_size, num_layers, batch_first=True)\n",
    "        self.fc = nn.Linear(hidden_size, output_size)\n",
    "\n",
    "    def forward(self, x):\n",
    "        \n",
    "        lstm_out, _ = self.lstm(x)\n",
    "        lstm_out = lstm_out[:, -1, :]  \n",
    "        output = self.fc(lstm_out)\n",
    "        return output\n",
    "\n",
    "\n",
    "lstm_model = BERT_LSTM(input_size=768, hidden_size=128, output_size=128).to(device)\n",
    "\n",
    "\n"
   ]
  },
  {
   "cell_type": "code",
   "execution_count": 88,
   "metadata": {},
   "outputs": [],
   "source": [
    "def generate_embeddings_lstm_bert(texts,tokenizer,bert_model,lstm_model ,batch_size):\n",
    "    dataset = MovieDataset(texts, tokenizer)\n",
    "    dataloader = DataLoader(dataset, batch_size=batch_size, shuffle=False)\n",
    "    embeddings = []\n",
    "    for input_ids, attention_mask in tqdm(dataloader):\n",
    "        input_ids, attention_mask = input_ids.to(device), attention_mask.to(device)\n",
    "        with torch.no_grad():\n",
    "            bert_outputs = bert_model(input_ids=input_ids, attention_mask=attention_mask)\n",
    "            bert_embeddings = bert_outputs.last_hidden_state.mean(dim=1)\n",
    "            lstm_embeddings = lstm_model(bert_embeddings.unsqueeze(1))\n",
    "        embeddings.append(lstm_embeddings.cpu().numpy())\n",
    "    \n",
    "    return np.vstack(embeddings)"
   ]
  },
  {
   "cell_type": "markdown",
   "metadata": {},
   "source": [
    "df"
   ]
  },
  {
   "cell_type": "code",
   "execution_count": 89,
   "metadata": {},
   "outputs": [
    {
     "name": "stderr",
     "output_type": "stream",
     "text": [
      "100%|██████████| 938/938 [08:53<00:00,  1.76it/s]\n"
     ]
    }
   ],
   "source": [
    "\n",
    "tokenizer = BertTokenizer.from_pretrained('bert-base-uncased')\n",
    "bert_model = BertModel.from_pretrained('bert-base-uncased').to(device)\n",
    "valid_overviews = df['overview'].dropna().tolist()\n",
    "plot_embeddings = generate_embeddings_lstm_bert(valid_overviews,tokenizer,bert_model,lstm_model,batch_size=32)"
   ]
  },
  {
   "cell_type": "code",
   "execution_count": 90,
   "metadata": {},
   "outputs": [],
   "source": [
    "df['embedding']=None\n",
    "df['embedding']=list(plot_embeddings)\n"
   ]
  },
  {
   "cell_type": "code",
   "execution_count": 91,
   "metadata": {},
   "outputs": [],
   "source": [
    "# Genres Encoding\n",
    "mlb_genres = MultiLabelBinarizer()\n",
    "df['genres'] = df['genres'].fillna('').apply(lambda x: [genre.strip() for genre in x.split(',')] if isinstance(x, str) else x)\n",
    "genres_encoded = mlb_genres.fit_transform(df['genres'])\n",
    "\n",
    "#Production Companies Encoding\n",
    "mlb_companies = MultiLabelBinarizer()\n",
    "df['production_companies'] = df['production_companies'].fillna('').apply(lambda x: [production_company.strip() for production_company in x.split(',')] if isinstance(x,str) else x)  \n",
    "companies_encoded = mlb_companies.fit_transform(df['production_companies'])\n",
    "\n",
    "# Keywords Encoding\n",
    "mlb_keywords = MultiLabelBinarizer()\n",
    "df['keywords'] = df['keywords'].fillna('').apply(lambda x: [keyword.strip() for keyword in x.split(',')] if isinstance(x,str) else x)\n",
    "keywords_encoded = mlb_keywords.fit_transform(df['keywords'])"
   ]
  },
  {
   "cell_type": "code",
   "execution_count": 92,
   "metadata": {},
   "outputs": [
    {
     "name": "stderr",
     "output_type": "stream",
     "text": [
      "30000it [23:54, 20.92it/s]\n"
     ]
    }
   ],
   "source": [
    "genres_list=list(mlb_genres.classes_)\n",
    "company_list=list(mlb_companies.classes_)\n",
    "production_list=list(mlb_companies.classes_)\n",
    "keyword_list=list(mlb_keywords.classes_)\n",
    "\n",
    "movie_embeddings = []\n",
    "\n",
    "for index, row in tqdm(df.iterrows()):\n",
    "    movie = {}\n",
    "    \n",
    "    # Genres Extraction\n",
    "    query_genres = [genre for genre in genres_list if genre.lower() in \" \".join(row[\"genres\"]).lower()]\n",
    "    \n",
    "    movie[\"genres\"] = np.sum(mlb_genres.transform([query_genres]), axis=0) if query_genres else np.zeros(len(mlb_genres.classes_))\n",
    "\n",
    "    query_companies = [company for company in company_list if company.lower() in \" \".join(row[\"production_companies\"]).lower()]\n",
    "    \n",
    "    movie[\"companies\"] = np.sum(mlb_companies.transform([query_companies]), axis=0) if query_companies else np.zeros(len(mlb_companies.classes_))\n",
    "\n",
    "    # Keywords Extraction\n",
    "    query_keywords = [keyword for keyword in keyword_list if keyword.lower() in \" \".join(row[\"keywords\"]).lower()]\n",
    "    movie[\"keywords\"] = np.sum(mlb_keywords.transform([query_keywords]), axis=0) if query_keywords else np.zeros(len(mlb_keywords.classes_))\n",
    "    \n",
    "    embedding_array = np.array(row['embedding'])\n",
    "    movie[\"overview\"] = embedding_array\n",
    "    movie_embeddings.append(movie)\n",
    "\n",
    "   "
   ]
  },
  {
   "cell_type": "code",
   "execution_count": 93,
   "metadata": {},
   "outputs": [],
   "source": [
    "\n",
    "def generate_query_embedding(query, tokenizer, bert_model, lstm_model, genres_list, company_list):\n",
    "   \n",
    "    query_embedding = {}\n",
    "\n",
    "    # Genres Extraction    \n",
    "    query_genres = [genre for genre in genres_list if genre.lower() in query.lower()]\n",
    "    query_embedding[\"genres\"] = np.sum(mlb_genres.transform([query_genres]), axis=0) if query_genres else np.zeros(len(mlb_genres.classes_))\n",
    "\n",
    "    #Companies Extraction\n",
    "    query_companies = [company for company in company_list if company.lower() in query.lower()]\n",
    "    query_embedding[\"companies\"] = np.sum(mlb_companies.transform([query_companies]), axis=0) if query_companies else np.zeros(len(mlb_companies.classes_))\n",
    "    \n",
    "    # Keywords Extraction\n",
    "    query_keywords = query.split()  \n",
    "    query_embedding[\"keywords\"] = np.sum(mlb_keywords.transform([query_keywords]), axis=0) if query_keywords else np.zeros(len(mlb_keywords.classes_))\n",
    "\n",
    "    # Overview Embedding (BERT + LSTM)\n",
    "    query_embedding[\"overview\"] = generate_embeddings_lstm_bert([query], tokenizer, bert_model, lstm_model, batch_size=1).flatten()\n",
    "\n",
    "    return query_embedding\n"
   ]
  },
  {
   "cell_type": "code",
   "execution_count": 94,
   "metadata": {},
   "outputs": [],
   "source": [
    "from scipy.spatial.distance import euclidean\n",
    "\n",
    "from sklearn.preprocessing import MinMaxScaler\n",
    "\n",
    "\n",
    "def calculate_similarity(query_embedding, movie_embeddings, weights):\n",
    "    scaler=MinMaxScaler()\n",
    "    similarity_scores = []\n",
    "    \n",
    "    for movie in movie_embeddings:\n",
    "        movie['genres'] = scaler.fit_transform(movie['genres'].reshape(-1, 1)).flatten()  \n",
    "        movie['companies'] = scaler.fit_transform(movie['companies'].reshape(-1, 1)).flatten()\n",
    "        movie['keywords'] = scaler.fit_transform(movie['keywords'].reshape(-1, 1)).flatten()\n",
    "        movie['overview'] = scaler.fit_transform(movie['overview'].reshape(-1, 1)).flatten()\n",
    "\n",
    "\n",
    "    query_embedding['genres'] = scaler.transform(query_embedding['genres'].reshape(-1, 1)).flatten()\n",
    "    query_embedding['companies'] = scaler.transform(query_embedding['companies'].reshape(-1, 1)).flatten()\n",
    "    query_embedding['keywords'] = scaler.transform(query_embedding['keywords'].reshape(-1, 1)).flatten()\n",
    "    query_embedding['overview'] = scaler.transform(query_embedding['overview'].reshape(-1, 1)).flatten()\n",
    "    for movie in movie_embeddings:\n",
    "       \n",
    "        genres_sim= 0 if weights['genres']==0 else cosine_similarity([query_embedding[\"genres\"]], [movie[\"genres\"]])[0][0]\n",
    "        companies_sim = 0 if weights['companies']==0 else cosine_similarity([query_embedding[\"companies\"]], [movie[\"companies\"]])[0][0]\n",
    "        keywords_sim = 0 if weights['keywords'] == 0 else cosine_similarity([query_embedding[\"keywords\"]], [movie[\"keywords\"]])[0][0]\n",
    "        overview_sim =0 if weights['overview']==0 else  cosine_similarity([query_embedding[\"overview\"]], [movie[\"overview\"]])[0][0]\n",
    "\n",
    "       \n",
    "        # Weighted Sum of Similarities\n",
    "        genres_sim_euclid =0 if weights['genres'] ==0 else  1/(1+euclidean(query_embedding[\"genres\"], movie[\"genres\"]))\n",
    "        companies_sim_euclid = 0 if weights['companies'] == 0 else 1 / (1 + euclidean(query_embedding[\"companies\"], movie[\"companies\"]))\n",
    "        keywords_sim_euclid=0 if weights['keywords']==0 else 1/(1+euclidean(query_embedding[\"keywords\"], movie[\"keywords\"]))\n",
    "        overview_sim_euclid=0 if weights['overview']==0 else 1/(1+euclidean(query_embedding[\"overview\"], movie[\"overview\"]))\n",
    "           \n",
    "     \n",
    "        \n",
    "        total_similarity = (\n",
    "            weights[\"genres\"] * (genres_sim + genres_sim_euclid) +\n",
    "            weights[\"companies\"] * (companies_sim + companies_sim_euclid) +\n",
    "            weights[\"keywords\"] * (keywords_sim + keywords_sim_euclid) +\n",
    "            +weights[\"overview\"] * (overview_sim + overview_sim_euclid)\n",
    "        )\n",
    "       \n",
    "        \n",
    "        similarity_scores.append(total_similarity)\n",
    "    return similarity_scores\n"
   ]
  },
  {
   "cell_type": "code",
   "execution_count": 95,
   "metadata": {},
   "outputs": [],
   "source": [
    "\n",
    "def recommend_movies(query, df, embeddings, tokenizer, bert_model, lstm_model, weights,top_n=10):\n",
    "    \n",
    "    genres_list=list(mlb_genres.classes_)\n",
    "    company_list=list(mlb_companies.classes_)\n",
    "    \n",
    "    query_embedding = generate_query_embedding(query, tokenizer, bert_model, lstm_model, genres_list, company_list)\n",
    "    \n",
    "     \n",
    "    similarity_scores = calculate_similarity(query_embedding, embeddings, weights)\n",
    "    df[\"similarity\"] = similarity_scores\n",
    "    recommended_movies = df.sort_values(by=\"similarity\", ascending=False).head(top_n)\n",
    "    remaining_movies = df.drop(recommended_movies.index)\n",
    "    randomly_selected_movies=remaining_movies.sample(10)\n",
    "    random_movie_titles=randomly_selected_movies['title']\n",
    "   \n",
    "    recommended_movie_titles = recommended_movies[\"title\"].values\n",
    "    recommended_movie_embeddings = [embedding for idx, embedding in enumerate(embeddings) if df.iloc[idx][\"title\"] in recommended_movie_titles]\n",
    "    random_movie_titles=randomly_selected_movies['title'].values\n",
    "    \n",
    "    randomly_selected_movies=[embedding for idx, embedding in enumerate(embeddings) if df.iloc[idx][\"title\"] in random_movie_titles]\n",
    "   \n",
    "    visualize_sne(recommended_movie_embeddings,query_embedding,randomly_selected_movies,recommended_movie_titles,random_movie_titles)\n",
    "    return recommended_movies[[\"title\", \"genres\", \"similarity\",'overview']]\n",
    "\n"
   ]
  },
  {
   "cell_type": "code",
   "execution_count": 96,
   "metadata": {},
   "outputs": [],
   "source": [
    "import numpy as np\n",
    "from sklearn.manifold import TSNE\n",
    "import matplotlib.pyplot as plt\n",
    "\n",
    "def visualize_sne(movie_embeddings, query_embedding,randomly_selected_movie,recommended_movie_titles,random_movie_titles):\n",
    "    \n",
    "    \n",
    "    movie_num=len(movie_embeddings)\n",
    "  \n",
    "    query_embedding = np.array(query_embedding['overview']).reshape(1, -1)\n",
    "    movie_embeddings = np.array([embedding['overview'] for  embedding in movie_embeddings])  \n",
    "    randomly_selected_movie=np.array([embedding['overview'] for embedding in randomly_selected_movie])  \n",
    "    \n",
    "    \n",
    "    \n",
    "    combined_embeddings = np.vstack([query_embedding, randomly_selected_movie,movie_embeddings])  \n",
    "\n",
    "    # ->2dimension\n",
    "    tsne = TSNE(n_components=2, random_state=42, perplexity=12, n_iter=1000,learning_rate=200)\n",
    "    \n",
    "    embeddings_2d = tsne.fit_transform(combined_embeddings)\n",
    "\n",
    "    df_tsne = pd.DataFrame(embeddings_2d, columns=['tsne1', 'tsne2'])\n",
    "    df_tsne['type'] = ['query'] + ['movie'] * len(movie_embeddings)  +['random'] * len(randomly_selected_movie)\n",
    "    plt.scatter(df_tsne.iloc[:10, 0], df_tsne.iloc[:10, 1], label=\"Random Movies\", color=\"blue\", alpha=0.7)\n",
    "    plt.scatter(df_tsne.iloc[10:15, 0], df_tsne.iloc[10:15, 1], label=\"Recommended Movies\", color=\"red\", alpha=0.7)\n",
    "    plt.scatter(df_tsne.iloc[-1, 0], df_tsne.iloc[-1, 1], label=\"Query\", color=\"green\")\n",
    "\n",
    "    for i, title in enumerate(random_movie_titles):\n",
    "        plt.text(df_tsne.iloc[i, 0], df_tsne.iloc[i, 1], title, fontsize=5)\n",
    "    for i, title in enumerate(recommended_movie_titles):\n",
    "        plt.text(df_tsne.iloc[10 + i, 0], df_tsne.iloc[10 + i, 1], title, fontsize=5)\n",
    "    plt.text(df_tsne.iloc[-1, 0], df_tsne.iloc[-1, 1], 'User input', fontsize=5)    \n",
    "    plt.legend()\n",
    "    plt.title('t-SNE Visualization of movies(TMDB)', fontsize=16)\n",
    "    plt.xlabel('t-SNE Component 1')\n",
    "    plt.ylabel('t-SNE Component 2')\n",
    "    plt.show()\n",
    "\n"
   ]
  },
  {
   "cell_type": "code",
   "execution_count": 97,
   "metadata": {},
   "outputs": [
    {
     "name": "stderr",
     "output_type": "stream",
     "text": [
      "c:\\Users\\haeun\\anaconda3\\envs\\pytorch_nlp\\lib\\site-packages\\sklearn\\preprocessing\\_label.py:900: UserWarning: unknown class(es) ['British', 'Murder', 'Mystery', 'from', 'scottland', 'with', 'yard?'] will be ignored\n",
      "  warnings.warn(\n",
      "100%|██████████| 1/1 [00:00<00:00,  5.27it/s]\n"
     ]
    },
    {
     "data": {
      "image/png": "[encoded data removed]",
      "text/plain": [
       "<Figure size 640x480 with 1 Axes>"
      ]
     },
     "metadata": {},
     "output_type": "display_data"
    },
    {
     "name": "stdout",
     "output_type": "stream",
     "text": [
      "                          title     genres  similarity  \\\n",
      "109152         Curtain at Eight  [Mystery]    0.950747   \n",
      "132116  Appointment with Murder  [Mystery]    0.947658   \n",
      "886099          Death in Cinema  [Mystery]    0.944472   \n",
      "884191   The Lincoln Highwayman  [Mystery]    0.943512   \n",
      "636367      The surprise effect  [Mystery]    0.942002   \n",
      "\n",
      "                                                 overview  \n",
      "109152  An elderly detective sets out to find who murd...  \n",
      "132116  The second Falcon film to feature actor/magici...  \n",
      "886099  Ex-Gulag prison guard investigates murder on t...  \n",
      "884191  Marian Calvert becomes infatuated with the inf...  \n",
      "636367  Raúl and Héctor relax on the roof. Part of the...  \n"
     ]
    }
   ],
   "source": [
    "query = \"British Murder Mystery with detective from scottland yard?\"\n",
    "\n",
    "weights = {\"genres\": 0.6, \"companies\": 0.1, \"keywords\": 0.1, \"overview\": 0.2} \n",
    "recommendations = recommend_movies(query, df, movie_embeddings, tokenizer, bert_model, lstm_model, weights,top_n=5)\n",
    "\n",
    "print(recommendations)"
   ]
  }
 ],
 "metadata": {
  "kernelspec": {
   "display_name": "pytorch_nlp",
   "language": "python",
   "name": "python3"
  },
  "language_info": {
   "codemirror_mode": {
    "name": "ipython",
    "version": 3
   },
   "file_extension": ".py",
   "mimetype": "text/x-python",
   "name": "python",
   "nbconvert_exporter": "python",
   "pygments_lexer": "ipython3",
   "version": "3.8.20"
  }
 },
 "nbformat": 4,
 "nbformat_minor": 2
}
