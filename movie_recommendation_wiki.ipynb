{
 "cells": [
  {
   "cell_type": "code",
   "execution_count": 15,
   "metadata": {},
   "outputs": [],
   "source": [
    "import numpy as np\n",
    "import pandas as pd\n",
    "from sklearn.preprocessing import MultiLabelBinarizer, MinMaxScaler\n",
    "from sklearn.metrics.pairwise import cosine_similarity\n",
    "from transformers import BertTokenizer, BertModel\n",
    "import torch\n",
    "from torch.utils.data import Dataset,DataLoader\n",
    "from tqdm import tqdm"
   ]
  },
  {
   "cell_type": "code",
   "execution_count": 16,
   "metadata": {},
   "outputs": [],
   "source": [
    "device = torch.device('cuda' if torch.cuda.is_available() else 'cpu')\n",
    "tokenizer = BertTokenizer.from_pretrained('bert-base-uncased')\n",
    "bert_model = BertModel.from_pretrained('bert-base-uncased').to(device)\n"
   ]
  },
  {
   "cell_type": "code",
   "execution_count": 17,
   "metadata": {},
   "outputs": [],
   "source": [
    "class MovieDataset(Dataset):\n",
    "    def __init__(self, data, tokenizer, max_length=512):\n",
    "        self.data = data\n",
    "        self.tokenizer = tokenizer\n",
    "        self.bert_model = bert_model\n",
    "        self.max_length = max_length\n",
    "\n",
    "    def __len__(self):\n",
    "        return len(self.data)\n",
    "\n",
    "    def __getitem__(self, idx):\n",
    "        text = self.data[idx]\n",
    "        tokenized = self.tokenizer(text, return_tensors=\"pt\", padding=\"max_length\", truncation=True, max_length=self.max_length)\n",
    "        return tokenized['input_ids'].squeeze(0), tokenized['attention_mask'].squeeze(0)\n"
   ]
  },
  {
   "cell_type": "code",
   "execution_count": 18,
   "metadata": {},
   "outputs": [],
   "source": [
    "import numpy as np\n",
    "import pandas as pd\n",
    "from sklearn.preprocessing import MultiLabelBinarizer, MinMaxScaler\n",
    "from sklearn.metrics.pairwise import cosine_similarity\n",
    "from transformers import BertTokenizer, BertModel\n",
    "import torch\n",
    "from torch import nn\n",
    "from tqdm import tqdm\n",
    "\n",
    "\n",
    "class BERT_LSTM(nn.Module):\n",
    "    def __init__(self, input_size, hidden_size, output_size, num_layers=1):\n",
    "        super(BERT_LSTM, self).__init__()\n",
    "        self.lstm = nn.LSTM(input_size, hidden_size, num_layers, batch_first=True)\n",
    "        self.fc = nn.Linear(hidden_size, output_size)\n",
    "\n",
    "    def forward(self, x):\n",
    "        \n",
    "        lstm_out, _ = self.lstm(x)\n",
    "        lstm_out = lstm_out[:, -1, :]  \n",
    "        output = self.fc(lstm_out)\n",
    "        return output\n",
    "\n",
    "\n",
    "lstm_model = BERT_LSTM(input_size=768, hidden_size=128, output_size=384).to(device)\n",
    "\n",
    "\n"
   ]
  },
  {
   "cell_type": "code",
   "execution_count": 19,
   "metadata": {},
   "outputs": [],
   "source": [
    "df = pd.read_csv('data.csv')  \n"
   ]
  },
  {
   "cell_type": "code",
   "execution_count": 20,
   "metadata": {},
   "outputs": [],
   "source": [
    "def generate_embeddings_lstm_bert(texts,tokenizer,bert_model,lstm_model ,batch_size):\n",
    "    dataset = MovieDataset(texts, tokenizer)\n",
    "    dataloader = DataLoader(dataset, batch_size=batch_size, shuffle=False)\n",
    "    embeddings = []\n",
    "    for input_ids, attention_mask in tqdm(dataloader):\n",
    "        input_ids, attention_mask = input_ids.to(device), attention_mask.to(device)\n",
    "        with torch.no_grad():\n",
    "            bert_outputs = bert_model(input_ids=input_ids, attention_mask=attention_mask)\n",
    "            bert_embeddings = bert_outputs.last_hidden_state.mean(dim=1)\n",
    "            lstm_embeddings = lstm_model(bert_embeddings.unsqueeze(1))\n",
    "        embeddings.append(lstm_embeddings.cpu().numpy())\n",
    "    \n",
    "    return np.vstack(embeddings)"
   ]
  },
  {
   "cell_type": "code",
   "execution_count": 21,
   "metadata": {},
   "outputs": [
    {
     "name": "stderr",
     "output_type": "stream",
     "text": [
      "  0%|          | 0/1091 [00:00<?, ?it/s]"
     ]
    },
    {
     "name": "stderr",
     "output_type": "stream",
     "text": [
      "100%|██████████| 1091/1091 [13:20<00:00,  1.36it/s]\n"
     ]
    }
   ],
   "source": [
    "\n",
    "valid_overviews = df['plot'].dropna().tolist()\n",
    "plot_embeddings = generate_embeddings_lstm_bert(valid_overviews,tokenizer,bert_model,lstm_model,batch_size=32)"
   ]
  },
  {
   "cell_type": "code",
   "execution_count": 22,
   "metadata": {},
   "outputs": [],
   "source": [
    "# Genres Encoding\n",
    "mlb_genres = MultiLabelBinarizer()\n",
    "\n",
    "df['genre'] = df['genre'].fillna('').apply(    lambda x: [genre.strip() for genre in x.split(',')] if isinstance(x, str) else x)\n",
    "genres_encoded = mlb_genres.fit_transform(df['genre'])\n"
   ]
  },
  {
   "cell_type": "code",
   "execution_count": 23,
   "metadata": {},
   "outputs": [
    {
     "name": "stderr",
     "output_type": "stream",
     "text": [
      "34886it [01:54, 304.44it/s]\n"
     ]
    }
   ],
   "source": [
    "genres_list=list(mlb_genres.classes_)\n",
    "\n",
    "movie_embeddings = []\n",
    "\n",
    "for index, row in tqdm(df.iterrows()):\n",
    "    movie = {}\n",
    "\n",
    "    # Genres Extraction\n",
    "    query_genres = [genre for genre in genres_list if genre.lower() in \" \".join(row[\"genre\"]).lower()]\n",
    "    \n",
    "    movie[\"genre\"] = np.sum(mlb_genres.transform([query_genres]), axis=0) if query_genres else np.zeros(len(mlb_genres.classes_))\n",
    "\n",
    "    \n",
    "\n",
    "    # Overview Embedding (BERT + LSTM)\n",
    "    embedding_str = row['embeddings'].strip('[]')\n",
    "    embedding_list = list(map(float, embedding_str.split()))\n",
    "\n",
    "\n",
    "    embedding_array = np.array(embedding_list)\n",
    "    \n",
    "    movie[\"overview\"] = embedding_array\n",
    "    movie_embeddings.append(movie)\n",
    "\n",
    "   "
   ]
  },
  {
   "cell_type": "code",
   "execution_count": 24,
   "metadata": {},
   "outputs": [],
   "source": [
    "\n",
    "def generate_query_embedding(query, tokenizer, bert_model, lstm_model, genres_list):\n",
    "   \n",
    "    query_embedding = {}\n",
    "\n",
    "    # Genres Extraction\n",
    "    query_genres = [genre for genre in genres_list if genre.lower() in query.lower()]\n",
    "    query_embedding[\"genre\"] = np.sum(mlb_genres.transform([query_genres]), axis=0) if query_genres else np.zeros(len(mlb_genres.classes_))  \n",
    "\n",
    "    # Overview Embedding (BERT + LSTM)\n",
    "    query_embedding[\"overview\"] = generate_embeddings_lstm_bert([query], tokenizer, bert_model, lstm_model, batch_size=1).flatten()\n",
    "\n",
    "    return query_embedding\n"
   ]
  },
  {
   "cell_type": "code",
   "execution_count": 25,
   "metadata": {},
   "outputs": [],
   "source": [
    "from scipy.spatial.distance import euclidean\n",
    "\n",
    "from sklearn.preprocessing import MinMaxScaler\n",
    "\n",
    "\n",
    "def calculate_similarity(query_embedding, movie_embeddings, weights):\n",
    "    scaler=MinMaxScaler()\n",
    "    similarity_scores = []\n",
    "    \n",
    "    for movie in movie_embeddings:\n",
    "\n",
    "        movie['genre'] = scaler.fit_transform(movie['genre'].reshape(-1, 1)).flatten()  \n",
    "        movie['overview'] = scaler.fit_transform(movie['overview'].reshape(-1, 1)).flatten()\n",
    "\n",
    "\n",
    "    query_embedding['genre'] = scaler.transform(query_embedding['genre'].reshape(-1, 1)).flatten()\n",
    "    query_embedding['overview'] = scaler.transform(query_embedding['overview'].reshape(-1, 1)).flatten()\n",
    "    \n",
    "    for movie in movie_embeddings:\n",
    "        \n",
    "        genres_sim = cosine_similarity([query_embedding[\"genre\"]], [movie[\"genre\"]])[0][0]\n",
    "        overview_sim = cosine_similarity([query_embedding[\"overview\"]], [movie[\"overview\"]])[0][0]\n",
    "\n",
    "    \n",
    "        genres_euclid = euclidean(query_embedding[\"genre\"], movie[\"genre\"])\n",
    "        overview_euclid = euclidean(query_embedding[\"overview\"], movie[\"overview\"])\n",
    "\n",
    "        genres_sim_euclid = 1 / (1 + genres_euclid)\n",
    "        overview_sim_euclid = 1 / (1 + overview_euclid)\n",
    "        \n",
    "        total_similarity = (\n",
    "            weights[\"genre\"] * (genres_sim + genres_sim_euclid) \n",
    "        +    weights[\"overview\"] * (overview_sim + overview_sim_euclid)\n",
    "        )\n",
    "        \n",
    "        similarity_scores.append(total_similarity)\n",
    "    return similarity_scores\n"
   ]
  },
  {
   "cell_type": "code",
   "execution_count": 26,
   "metadata": {},
   "outputs": [],
   "source": [
    "\n",
    "def recommend_movies(query, df, embeddings, tokenizer, bert_model, lstm_model, weights,top_n=10):\n",
    "    \n",
    "    genres_list=list(mlb_genres.classes_)\n",
    "    \n",
    "    \n",
    "    query_embedding = generate_query_embedding(query, tokenizer, bert_model, lstm_model, genres_list)\n",
    "    \n",
    "     \n",
    "    similarity_scores = calculate_similarity(query_embedding, embeddings, weights)\n",
    "    df[\"similarity\"] = similarity_scores\n",
    "    recommended_movies = df.sort_values(by=\"similarity\", ascending=False).head(top_n)\n",
    "    remaining_movies = df.drop(recommended_movies.index)\n",
    "    randomly_selected_movies=remaining_movies.sample(10)\n",
    "    \n",
    "    recommended_movie_titles = recommended_movies[\"title\"].values\n",
    "    recommended_movie_embeddings = [embedding for idx, embedding in enumerate(embeddings) if df.iloc[idx][\"title\"] in recommended_movie_titles]\n",
    "    random_movie_titles=randomly_selected_movies['title'].values\n",
    "    randomly_selected_movies=[embedding for idx, embedding in enumerate(embeddings) if df.iloc[idx][\"title\"] in random_movie_titles]\n",
    "    visualize_sne(recommended_movie_embeddings,query_embedding,randomly_selected_movies,recommended_movie_titles,random_movie_titles)\n",
    "    return recommended_movies[[\"title\", \"genre\", \"similarity\"]]\n",
    "\n"
   ]
  },
  {
   "cell_type": "code",
   "execution_count": 27,
   "metadata": {},
   "outputs": [],
   "source": [
    "import numpy as np\n",
    "from sklearn.manifold import TSNE\n",
    "import matplotlib.pyplot as plt\n",
    "\n",
    "def visualize_sne(movie_embeddings, query_embedding,randomly_selected_movie,recommended_movie_titles,random_movie_titles):\n",
    "    \n",
    "    \n",
    "    movie_num=len(movie_embeddings)\n",
    "  \n",
    "    query_embedding = np.array(query_embedding['overview']).reshape(1, -1)\n",
    "    movie_embeddings = np.array([embedding['overview'] for  embedding in movie_embeddings])  \n",
    "    randomly_selected_movie=np.array([embedding['overview'] for embedding in randomly_selected_movie])  \n",
    "    # query embedding+ movie_Embedding\n",
    "    \n",
    "    \n",
    "    combined_embeddings = np.vstack([query_embedding, randomly_selected_movie,movie_embeddings])  \n",
    "\n",
    "    \n",
    "    tsne = TSNE(n_components=2, random_state=42, perplexity=12, n_iter=5000)\n",
    "    \n",
    "    embeddings_2d = tsne.fit_transform(combined_embeddings)\n",
    "\n",
    "    df_tsne = pd.DataFrame(embeddings_2d, columns=['tsne1', 'tsne2'])\n",
    "    df_tsne['type'] = ['query'] + ['movie'] * len(movie_embeddings)  +['random'] * len(randomly_selected_movie)\n",
    "    plt.scatter(df_tsne.iloc[:10, 0], df_tsne.iloc[:10, 1], label=\"Random Movies\", color=\"blue\", alpha=0.7)\n",
    "    plt.scatter(df_tsne.iloc[10:15, 0], df_tsne.iloc[10:15, 1], label=\"Recommended Movies\", color=\"red\", alpha=0.7)\n",
    "    plt.scatter(df_tsne.iloc[-1, 0], df_tsne.iloc[-1, 1], label=\"Query\", color=\"green\")\n",
    "\n",
    "\n",
    "    for i, title in enumerate(random_movie_titles):\n",
    "        plt.text(df_tsne.iloc[i, 0], df_tsne.iloc[i, 1], title, fontsize=5)\n",
    "    for i, title in enumerate(recommended_movie_titles):\n",
    "        plt.text(df_tsne.iloc[10 + i, 0], df_tsne.iloc[10 + i, 1], title, fontsize=5)\n",
    "    plt.text(df_tsne.iloc[-1, 0], df_tsne.iloc[-1, 1], 'User input', fontsize=5)    \n",
    "    plt.legend()\n",
    "    plt.title('t-SNE Visualization of movies(wiki)', fontsize=16)\n",
    "    plt.xlabel('t-SNE Component 1')\n",
    "    plt.ylabel('t-SNE Component 2')\n",
    "    plt.show()\n",
    "\n"
   ]
  },
  {
   "cell_type": "code",
   "execution_count": 28,
   "metadata": {},
   "outputs": [
    {
     "name": "stderr",
     "output_type": "stream",
     "text": [
      "100%|██████████| 1/1 [00:00<00:00, 45.10it/s]\n"
     ]
    },
    {
     "data": {
      "image/png": "[encoded data removed]",
      "text/plain": [
       "<Figure size 640x480 with 1 Axes>"
      ]
     },
     "metadata": {},
     "output_type": "display_data"
    },
    {
     "name": "stdout",
     "output_type": "stream",
     "text": [
      "                               title             genre  similarity\n",
      "2134                 Sinner Take All  [Murder Mystery]    0.546718\n",
      "28783                      Laal Ishq  [Murder Mystery]    0.543528\n",
      "18429                  Holiday's End         [Mystery]    0.519831\n",
      "3292                    Dr. Broadway         [Mystery]    0.515687\n",
      "2778   Dr. Christian Meets the Women         [Mystery]    0.515636\n"
     ]
    }
   ],
   "source": [
    "query = 'British Murder Mystery with detective from scottland yard'\n",
    "tokenizer = BertTokenizer.from_pretrained('bert-base-uncased')\n",
    "bert_model = BertModel.from_pretrained('bert-base-uncased').to(device)\n",
    "weights = {\"genre\": 0.7,  \"overview\": 0.3} \n",
    "recommendations = recommend_movies(query, df, movie_embeddings, tokenizer, bert_model, lstm_model, weights,top_n=5)\n",
    "\n",
    "print(recommendations)"
   ]
  }
 ],
 "metadata": {
  "kernelspec": {
   "display_name": "pytorch_nlp",
   "language": "python",
   "name": "python3"
  },
  "language_info": {
   "codemirror_mode": {
    "name": "ipython",
    "version": 3
   },
   "file_extension": ".py",
   "mimetype": "text/x-python",
   "name": "python",
   "nbconvert_exporter": "python",
   "pygments_lexer": "ipython3",
   "version": "3.8.20"
  }
 },
 "nbformat": 4,
 "nbformat_minor": 2
}
